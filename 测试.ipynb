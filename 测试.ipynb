{
 "cells": [
  {
   "cell_type": "code",
   "execution_count": 3,
   "metadata": {},
   "outputs": [
    {
     "data": {
      "text/plain": [
       "BayesSearchCV(cv=None, error_score='raise',\n",
       "              estimator=LogisticRegression(C=1.0, class_weight=None, dual=False,\n",
       "                                           fit_intercept=True,\n",
       "                                           intercept_scaling=1, l1_ratio=None,\n",
       "                                           max_iter=100, multi_class='warn',\n",
       "                                           n_jobs=None, penalty='l2',\n",
       "                                           random_state=1234, solver='warn',\n",
       "                                           tol=0.0001, verbose=0,\n",
       "                                           warm_start=False),\n",
       "              fit_params=None, iid=True, logger=None, n_iter=30, n_jobs=1,\n",
       "              n_points=1, optimizer_kwargs=None, pre_dispatch='2*n_jobs',\n",
       "              random_state=1234, refit=True, return_train_score=False,\n",
       "              scoring=None,\n",
       "              search_spaces={'C': (1e-05, 100, 'log-uniform'),\n",
       "                             'fit_intercept': [True, False],\n",
       "                             'penalty': ['l1', 'l2'],\n",
       "                             'solver': ['liblinear', 'saga'],\n",
       "                             'tol': (1e-05, 0.001, 'log-uniform')},\n",
       "              verbose=0)"
      ]
     },
     "execution_count": 3,
     "metadata": {},
     "output_type": "execute_result"
    }
   ],
   "source": [
    "import warnings\n",
    "warnings.filterwarnings('ignore')\n",
    "\n",
    "from skopt.searchcv import BayesSearchCV\n",
    "from sklearn.datasets import load_breast_cancer\n",
    "from sklearn.model_selection import train_test_split\n",
    "from sklearn.linear_model import LogisticRegression\n",
    "\n",
    "# prep some sample data\n",
    "X, y = load_breast_cancer(return_X_y=True)\n",
    "X_train, X_test, y_train, y_test = train_test_split(X, y, train_size=0.75, random_state=1234)\n",
    "\n",
    "# we're using a logistic regression model\n",
    "clf = LogisticRegression(random_state=1234, verbose=0)\n",
    "\n",
    "# this is our parameter grid\n",
    "param_grid = {\n",
    "    'solver': ['liblinear', 'saga'],  \n",
    "    'penalty': ['l1','l2'],\n",
    "    'tol': (1e-5, 1e-3, 'log-uniform'),\n",
    "    'C': (1e-5, 100, 'log-uniform'),\n",
    "    'fit_intercept': [True, False]\n",
    "}\n",
    "\n",
    "# set up our optimiser to find the best params in 30 searches\n",
    "opt = BayesSearchCV(\n",
    "    clf,\n",
    "    param_grid,\n",
    "    n_iter=30,\n",
    "    random_state=1234,\n",
    "    verbose=0\n",
    ")\n",
    "\n",
    "opt.fit(X_train, y_train)"
   ]
  },
  {
   "cell_type": "code",
   "execution_count": 1,
   "metadata": {},
   "outputs": [
    {
     "name": "stdout",
     "output_type": "stream",
     "text": [
      "[WARNING] [2020-08-04 09:19:15,734:AutoML(1791095845):d74860caaa557f473ce23908ff7ba369] Capping the per_run_time_limit to 1799.0 to have time for a least 2 models in each process.\n",
      "[WARNING] [2020-08-04 09:19:15,793:AutoML(1872583848):d74860caaa557f473ce23908ff7ba369] Capping the per_run_time_limit to 1799.0 to have time for a least 2 models in each process.\n",
      "[WARNING] [2020-08-04 09:19:15,836:AutoML(4153361530):d74860caaa557f473ce23908ff7ba369] Capping the per_run_time_limit to 1799.0 to have time for a least 2 models in each process.\n",
      "[WARNING] [2020-08-04 09:19:15,902:AutoML(2365658986):d74860caaa557f473ce23908ff7ba369] Capping the per_run_time_limit to 1799.0 to have time for a least 2 models in each process.\n",
      "[WARNING] [2020-08-04 09:19:15,904:AutoML(953453411):d74860caaa557f473ce23908ff7ba369] Capping the per_run_time_limit to 1799.0 to have time for a least 2 models in each process.\n",
      "[WARNING] [2020-08-04 09:19:16,005:AutoML(3834805130):d74860caaa557f473ce23908ff7ba369] Capping the per_run_time_limit to 1799.0 to have time for a least 2 models in each process.\n",
      "Accuracy score 0.11777777777777777\n"
     ]
    }
   ],
   "source": [
    "import autosklearn.classification\n",
    "import sklearn.model_selection\n",
    "import sklearn.datasets\n",
    "import sklearn.metrics\n",
    "X, y = sklearn.datasets.load_digits(return_X_y=True)\n",
    "X_train, X_test, y_train, y_test =sklearn.model_selection.train_test_split(X, y, random_state=1)\n",
    "automl = autosklearn.classification.AutoSklearnClassifier(n_jobs=6)\n",
    "automl.fit(X_train, y_train)\n",
    "y_hat = automl.predict(X_test)\n",
    "print(\"Accuracy score\", sklearn.metrics.accuracy_score(y_test, y_hat))"
   ]
  },
  {
   "cell_type": "code",
   "execution_count": 1,
   "metadata": {},
   "outputs": [],
   "source": [
    "import numpy as np\n",
    "import pandas as pd\n",
    "import matplotlib.pyplot as plt\n",
    "import seaborn as sns  \n",
    "%matplotlib inline \n",
    "from collections import Counter\n",
    "from xgboost import XGBClassifier\n",
    "import seaborn as sns\n",
    "from sklearn.ensemble import RandomForestClassifier, AdaBoostClassifier, GradientBoostingClassifier, ExtraTreesClassifier, VotingClassifier\n",
    "from sklearn.discriminant_analysis import LinearDiscriminantAnalysis\n",
    "from sklearn.linear_model import LogisticRegression\n",
    "from sklearn.neighbors import KNeighborsClassifier\n",
    "from sklearn.tree import DecisionTreeClassifier\n",
    "from sklearn.neural_network import MLPClassifier\n",
    "from sklearn.svm import SVC\n",
    "from sklearn.model_selection import GridSearchCV, cross_val_score, StratifiedKFold, learning_curve\n",
    "sns.set(style='white', context='notebook', palette='deep')\n",
    "from sklearn.metrics import classification_report\n",
    "from sklearn.metrics import confusion_matrix\n",
    "from sklearn.metrics import accuracy_score"
   ]
  },
  {
   "cell_type": "code",
   "execution_count": 2,
   "metadata": {},
   "outputs": [],
   "source": [
    "##文件读取 data=pd.read_csv('c:/users/lenovo/desktop/data/gout/jyl/doctor_li/doctor_li_2018_0_deal.csv')\n",
    "data=pd.read_csv('./data/jyl/doctor_li/doctor_li_2018_merge1.csv')\n",
    "# data2=pd.read_csv('c:/users/lenovo/desktop/data/gout/jyl/doctor_li/Book1.csv')\n",
    "# data=pd.read_csv('c:/users/lenovo/desktop/data/gout/jyl/doctor_li/doctor_li_2018_merge_2.csv')\n",
    "# data=pd.read_csv('c:/users/lenovo/desktop/data/gout/jyl/doctor_li/id_feature_8.csv')\n",
    "#去除不需要的类别\n",
    "data=data[data['Stage']!=0]\n",
    "data=data[data['Stage']!=1]\n",
    "data=data[data['Stage']!=71]"
   ]
  },
  {
   "cell_type": "code",
   "execution_count": 3,
   "metadata": {},
   "outputs": [
    {
     "name": "stdout",
     "output_type": "stream",
     "text": [
      "[WARNING] [2020-08-05 10:26:12,155:AutoML(1791095845):73332ecb3049b7bd12e0d20af2392315] Capping the per_run_time_limit to 1799.0 to have time for a least 2 models in each process.\n",
      "[WARNING] [2020-08-05 10:26:12,215:AutoML(1872583848):73332ecb3049b7bd12e0d20af2392315] Capping the per_run_time_limit to 1799.0 to have time for a least 2 models in each process.\n",
      "\n",
      "[WARNING] [2020-08-05 10:26:12,269:AutoML(4153361530):73332ecb3049b7bd12e0d20af2392315] Capping the per_run_time_limit to 1799.0 to have time for a least 2 models in each process.[WARNING] [2020-08-05 10:26:12,296:AutoML(2365658986):73332ecb3049b7bd12e0d20af2392315] Capping the per_run_time_limit to 1799.0 to have time for a least 2 models in each process.\n",
      "[WARNING] [2020-08-05 10:26:12,315:AutoML(953453411):73332ecb3049b7bd12e0d20af2392315] Capping the per_run_time_limit to 1799.0 to have time for a least 2 models in each process.\n",
      "[WARNING] [2020-08-05 10:26:12,440:AutoML(3834805130):73332ecb3049b7bd12e0d20af2392315] Capping the per_run_time_limit to 1799.0 to have time for a least 2 models in each process.\n",
      "结果是：\n",
      "\n",
      "0.03731343283582089\n"
     ]
    }
   ],
   "source": [
    "#去除无关列\n",
    "x = data.drop(['Stage','TreeID','LevelID','VisitDate','VisitFlag'],axis=1)\n",
    "y=data['Stage']\n",
    "##数据归一化\n",
    "# x=(x-x.min())/(x.max()-x.min())\n",
    "# x.head()\n",
    "from sklearn.model_selection import train_test_split\n",
    "x_train, x_test, y_train, y_test = train_test_split(x, y, test_size=0.3, random_state=30)\n",
    "\n",
    "#####################自动化学习###################################################\n",
    "\n",
    "import autosklearn.classification\n",
    "cls = autosklearn.classification.AutoSklearnClassifier(n_jobs=6)\n",
    "cls.fit(x_train, y_train)\n",
    "predictions = cls.predict(x_test)\n",
    "print('结果是：\\n')\n",
    "print(accuracy_score(y_test, predictions))"
   ]
  },
  {
   "cell_type": "code",
   "execution_count": 3,
   "metadata": {},
   "outputs": [
    {
     "name": "stdout",
     "output_type": "stream",
     "text": [
      "[7, 11, 13, 20, 23, 30, 5]\n"
     ]
    }
   ],
   "source": [
    "import random\n",
    "\n",
    "list_red = [x for x in range(1, 34)]      #1~33 RED\n",
    "res = random.sample(list_red, 6)          #SEARCH 6\n",
    "res.sort()                                #6 SORT\n",
    "res.append(random.randint(1, 16))         #SEARCH 1\n",
    "\n",
    "print(res)"
   ]
  },
  {
   "cell_type": "code",
   "execution_count": null,
   "metadata": {},
   "outputs": [],
   "source": []
  }
 ],
 "metadata": {
  "kernelspec": {
   "display_name": "Python [conda env:ts] *",
   "language": "python",
   "name": "conda-env-ts-py"
  },
  "language_info": {
   "codemirror_mode": {
    "name": "ipython",
    "version": 3
   },
   "file_extension": ".py",
   "mimetype": "text/x-python",
   "name": "python",
   "nbconvert_exporter": "python",
   "pygments_lexer": "ipython3",
   "version": "3.6.5"
  }
 },
 "nbformat": 4,
 "nbformat_minor": 4
}
